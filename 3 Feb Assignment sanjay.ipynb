{
 "cells": [
  {
   "cell_type": "code",
   "execution_count": null,
   "id": "31d9c51d-7b6b-4362-9362-16c78cea919b",
   "metadata": {},
   "outputs": [],
   "source": [
    "Q1. Which keyword is used to create a function? Create a function to return a list of odd numbers in the\n",
    "range of 1 to 25."
   ]
  },
  {
   "cell_type": "markdown",
   "id": "589166ad-a56e-4c65-a379-2398450f8a90",
   "metadata": {},
   "source": [
    "keyword is used to create a function - def"
   ]
  },
  {
   "cell_type": "code",
   "execution_count": 89,
   "id": "7230506e-4273-4519-baf6-6284333b03ba",
   "metadata": {},
   "outputs": [],
   "source": [
    "\"\"\"a function to return a list of odd numbers in the\n",
    "range of 1 to 25\"\"\"\n",
    "\n",
    "def test1():\n",
    "    lst = []\n",
    "    for i in range(1,26,2):\n",
    "        lst.append(i)\n",
    "    print(lst)"
   ]
  },
  {
   "cell_type": "code",
   "execution_count": 90,
   "id": "f6f07522-d5eb-4152-9981-aecbc4728603",
   "metadata": {},
   "outputs": [
    {
     "name": "stdout",
     "output_type": "stream",
     "text": [
      "[1, 3, 5, 7, 9, 11, 13, 15, 17, 19, 21, 23, 25]\n"
     ]
    }
   ],
   "source": [
    "test1()"
   ]
  },
  {
   "cell_type": "markdown",
   "id": "2f3b4048-eb92-48a5-b615-8dd4a614b8bf",
   "metadata": {},
   "source": [
    "            ----------------------------------------------------------------------------\n"
   ]
  },
  {
   "cell_type": "code",
   "execution_count": null,
   "id": "2fa9dc57-d37e-426a-b15e-18327eafbd32",
   "metadata": {},
   "outputs": [],
   "source": [
    "Q2. Why *args and **kwargs is used in some functions? Create a function each for *args and **kwargs\n",
    "to demonstrate their use."
   ]
  },
  {
   "cell_type": "markdown",
   "id": "bee9fe0d-c3fe-4599-9d63-065b0951a872",
   "metadata": {},
   "source": [
    "*args allows you to pass any number of arguments to a function and in **kwargs we accept the keyword arguments as input from the user.\n"
   ]
  },
  {
   "cell_type": "code",
   "execution_count": 99,
   "id": "b30d27da-930e-490a-96a3-03495b70e515",
   "metadata": {},
   "outputs": [],
   "source": [
    "def test2(*args):\n",
    "    return(args)"
   ]
  },
  {
   "cell_type": "code",
   "execution_count": 102,
   "id": "8ed6676c-b86e-4048-bc80-4aacad3ffb9c",
   "metadata": {},
   "outputs": [
    {
     "data": {
      "text/plain": [
       "(21, 54, 'example', 5.02)"
      ]
     },
     "execution_count": 102,
     "metadata": {},
     "output_type": "execute_result"
    }
   ],
   "source": [
    "test2(21,54,\"example\",5.02)"
   ]
  },
  {
   "cell_type": "code",
   "execution_count": null,
   "id": "7a126417-55d4-4e17-8824-ccb78c9fa0d7",
   "metadata": {},
   "outputs": [],
   "source": []
  },
  {
   "cell_type": "code",
   "execution_count": 103,
   "id": "0f7dcd0c-8ee6-41d1-aaad-9a9e55ffe95d",
   "metadata": {},
   "outputs": [],
   "source": [
    "def test3(**kwargs):\n",
    "    return(kwargs)"
   ]
  },
  {
   "cell_type": "code",
   "execution_count": 111,
   "id": "dc86d262-2aae-4783-adf9-fed8ec7214ae",
   "metadata": {},
   "outputs": [
    {
     "data": {
      "text/plain": [
       "{'a': [1, 2, 5, 8], 'c': 'sanj'}"
      ]
     },
     "execution_count": 111,
     "metadata": {},
     "output_type": "execute_result"
    }
   ],
   "source": [
    "test3(a= [1,2,5,8], c= \"sanj\")"
   ]
  },
  {
   "cell_type": "markdown",
   "id": "ab62e494-1ace-4c60-9674-354e9531514d",
   "metadata": {},
   "source": [
    "            ----------------------------------------------------------------------------\n"
   ]
  },
  {
   "cell_type": "code",
   "execution_count": null,
   "id": "788861fe-b9da-42c4-a5a9-d867c99d80b8",
   "metadata": {},
   "outputs": [],
   "source": [
    "Q3. What is an iterator in python? Name the method used to initialise the iterator object and the method\n",
    "used for iteration. Use these methods to print the first five elements of the given list [2, 4, 6, 8, 10, 12, 14,\n",
    "16, 18, 20]."
   ]
  },
  {
   "cell_type": "markdown",
   "id": "ba85d287-be02-4856-936b-32b22c3c61a8",
   "metadata": {},
   "source": [
    "An iterator is an object that allows you to go through a collection of items one at a time.To create an iterator object,we can use the iter() method. To iterate through the items in the iterator, we can use the next() method."
   ]
  },
  {
   "cell_type": "code",
   "execution_count": 120,
   "id": "6bda7b8b-c709-46f3-a039-25aee4699fbb",
   "metadata": {},
   "outputs": [
    {
     "name": "stdout",
     "output_type": "stream",
     "text": [
      "2\n",
      "4\n",
      "6\n",
      "8\n",
      "10\n"
     ]
    }
   ],
   "source": [
    "l = [2, 4, 6, 8, 10, 12, 14, 16, 18, 20]\n",
    "\n",
    "\n",
    "iterator = iter(l)\n",
    "\n",
    "for i in range(0,5):\n",
    "    print(next(iterator))\n"
   ]
  },
  {
   "cell_type": "markdown",
   "id": "b526bdd6-96aa-4d63-baf7-10064c1e5e97",
   "metadata": {},
   "source": [
    "            ----------------------------------------------------------------------------\n"
   ]
  },
  {
   "cell_type": "code",
   "execution_count": null,
   "id": "f3a67815-1e52-4f5b-831b-8bebdb4d15fa",
   "metadata": {},
   "outputs": [],
   "source": [
    "Q4. What is a generator function in python? Why yield keyword is used? Give an example of a generator\n",
    "function."
   ]
  },
  {
   "cell_type": "markdown",
   "id": "f1c73919-43c9-424d-91a3-970323743822",
   "metadata": {},
   "source": [
    "A generator function is a special kind of function that allows you to iterate through a collection of items one at a time, without having to create the entire collection in memory at once.\n",
    "\n",
    "A generator function is defined using the def keyword, just like any other function in Python, but it uses the yield keyword instead of return to return values. When the generator function is called, it doesn't actually execute the function body, but instead returns an iterator object that can be used to iterate through the values generated by the function.\n",
    "\n",
    "The yield keyword is used to pause the execution of the function and return a value, but it doesn't terminate the function. The next time the function is called, it resumes execution where it left off, and continues until it encounters another yield statement, or until the function ends."
   ]
  },
  {
   "cell_type": "code",
   "execution_count": 126,
   "id": "3ecc7bb8-c39c-4a8e-9aac-80a11dcb3ad4",
   "metadata": {},
   "outputs": [
    {
     "name": "stdout",
     "output_type": "stream",
     "text": [
      "0\n",
      "2\n",
      "4\n",
      "6\n",
      "8\n"
     ]
    }
   ],
   "source": [
    "def test5(limit):\n",
    "    num = 0\n",
    "    while num < limit:\n",
    "        yield num\n",
    "        num += 2\n",
    "        \n",
    "my_generator = test5(10)\n",
    "for num in my_generator:\n",
    "    print(num)\n",
    "\n"
   ]
  },
  {
   "cell_type": "markdown",
   "id": "98b312ab-6996-4316-87f5-d04919955474",
   "metadata": {},
   "source": [
    "            ----------------------------------------------------------------------------"
   ]
  },
  {
   "cell_type": "code",
   "execution_count": null,
   "id": "f58885d4-fd54-4906-86fc-0cff328fd29d",
   "metadata": {},
   "outputs": [],
   "source": [
    "Q5. Create a generator function for prime numbers less than 1000. Use the next() method to print the\n",
    "first 20 prime numbers."
   ]
  },
  {
   "cell_type": "code",
   "execution_count": 132,
   "id": "6666cc38-0e36-4b74-bf3b-995b552ba36b",
   "metadata": {},
   "outputs": [
    {
     "name": "stdout",
     "output_type": "stream",
     "text": [
      "2\n",
      "3\n",
      "5\n",
      "7\n",
      "11\n",
      "13\n",
      "17\n",
      "19\n",
      "23\n",
      "29\n",
      "31\n",
      "37\n",
      "41\n",
      "43\n",
      "47\n",
      "53\n",
      "59\n",
      "61\n",
      "67\n",
      "71\n"
     ]
    }
   ],
   "source": [
    "def primes():\n",
    "    num = 2\n",
    "    while True:\n",
    "        for i in range(2, num):\n",
    "            if num % i == 0:\n",
    "                break\n",
    "        else:\n",
    "            yield num\n",
    "        num += 1\n",
    "        if num >= 1000:\n",
    "            break\n",
    "\n",
    "            \n",
    "            \n",
    "my_primes = primes()\n",
    "for i in range(20):\n",
    "    print(next(my_primes))\n"
   ]
  },
  {
   "cell_type": "markdown",
   "id": "169b6fd6-7157-4f62-8eab-6b2841cb637d",
   "metadata": {},
   "source": [
    "            ----------------------------------------------------------------------------"
   ]
  },
  {
   "cell_type": "code",
   "execution_count": null,
   "id": "bf17884f-7566-4dcd-ae0a-e2ca3c25f337",
   "metadata": {},
   "outputs": [],
   "source": [
    "Q6. Write a python program to print the first 10 Fibonacci numbers using a while loop."
   ]
  },
  {
   "cell_type": "code",
   "execution_count": 133,
   "id": "705b7097-f20e-4c93-b67f-c1c5da03a0ea",
   "metadata": {},
   "outputs": [
    {
     "name": "stdout",
     "output_type": "stream",
     "text": [
      "0\n",
      "1\n",
      "1\n",
      "2\n",
      "3\n",
      "5\n",
      "8\n",
      "13\n",
      "21\n",
      "34\n"
     ]
    }
   ],
   "source": [
    "a = 0\n",
    "b = 1\n",
    "count = 0\n",
    "\n",
    "while count < 10:\n",
    "    print(a)\n",
    "    c = a + b\n",
    "    a = b\n",
    "    b = c\n",
    "    count += 1\n"
   ]
  },
  {
   "cell_type": "markdown",
   "id": "6a8980a6-c1b5-4945-b83b-e3c0baff8cd9",
   "metadata": {},
   "source": [
    "            ----------------------------------------------------------------------------"
   ]
  },
  {
   "cell_type": "code",
   "execution_count": null,
   "id": "c531631c-6bc7-434f-880b-30dcc5adfaae",
   "metadata": {},
   "outputs": [],
   "source": [
    "Q7. Write a List Comprehension to iterate through the given string: ‘pwskills’."
   ]
  },
  {
   "cell_type": "code",
   "execution_count": 138,
   "id": "579a625e-6340-4810-825f-2a9ff87181ba",
   "metadata": {},
   "outputs": [
    {
     "name": "stdout",
     "output_type": "stream",
     "text": [
      "['p', 'w', 's', 'k', 'i', 'l', 'l', 's']\n"
     ]
    }
   ],
   "source": [
    "string = 'pwskills'\n",
    "\n",
    "result = [i for i in string]\n",
    "print(result)\n"
   ]
  },
  {
   "cell_type": "markdown",
   "id": "f5dbb577-9991-4a4d-88bf-ac0da2c879bd",
   "metadata": {},
   "source": [
    "            ----------------------------------------------------------------------------"
   ]
  },
  {
   "cell_type": "code",
   "execution_count": null,
   "id": "13a704cc-cd32-443e-a1b4-d8775456f36a",
   "metadata": {},
   "outputs": [],
   "source": [
    "Q8. Write a python program to check whether a given number is Palindrome or not using a while loop."
   ]
  },
  {
   "cell_type": "code",
   "execution_count": 146,
   "id": "81216201-350e-450a-81ff-0f1b9fab3efb",
   "metadata": {},
   "outputs": [
    {
     "name": "stdin",
     "output_type": "stream",
     "text": [
      "Enter a number:  21212121\n"
     ]
    },
    {
     "name": "stdout",
     "output_type": "stream",
     "text": [
      "21212121 is not a palindrome number\n"
     ]
    }
   ],
   "source": [
    "number = int(input(\"Enter a number: \"))\n",
    "temp = number\n",
    "reverse = 0\n",
    "\n",
    "while temp != 0:\n",
    "    remainder = temp % 10\n",
    "    reverse = reverse * 10 + remainder\n",
    "    temp = temp // 10\n",
    "\n",
    "if number == reverse:\n",
    "    print(number, \"is a palindrome number\")\n",
    "else:\n",
    "    print(number, \"is not a palindrome number\")\n"
   ]
  },
  {
   "cell_type": "markdown",
   "id": "0f16aa12-1478-4573-86af-8eee44198de4",
   "metadata": {},
   "source": [
    "            ----------------------------------------------------------------------------"
   ]
  },
  {
   "cell_type": "code",
   "execution_count": null,
   "id": "553cdb91-cfaf-47bc-8a1d-f619846ba2ff",
   "metadata": {},
   "outputs": [],
   "source": [
    "Q9. Write a code to print odd numbers from 1 to 100 using list comprehension."
   ]
  },
  {
   "cell_type": "code",
   "execution_count": 148,
   "id": "c845882d-366c-4b7e-84cf-98742164fa26",
   "metadata": {},
   "outputs": [
    {
     "name": "stdout",
     "output_type": "stream",
     "text": [
      "[1, 3, 5, 7, 9, 11, 13, 15, 17, 19, 21, 23, 25, 27, 29, 31, 33, 35, 37, 39, 41, 43, 45, 47, 49, 51, 53, 55, 57, 59, 61, 63, 65, 67, 69, 71, 73, 75, 77, 79, 81, 83, 85, 87, 89, 91, 93, 95, 97, 99]\n"
     ]
    }
   ],
   "source": [
    "numbers = [num for num in range(1, 101)]\n",
    "odd_numbers = [num for num in numbers if num % 2 != 0]\n",
    "print(odd_numbers)\n"
   ]
  },
  {
   "cell_type": "markdown",
   "id": "83ef46e0-76fb-4dc6-822d-d92e2dcdc031",
   "metadata": {},
   "source": [
    "            ----------------------------------------------------------------------------"
   ]
  },
  {
   "cell_type": "code",
   "execution_count": null,
   "id": "f3dd4787-5ab1-4046-b255-21fefe1ac7ee",
   "metadata": {},
   "outputs": [],
   "source": []
  }
 ],
 "metadata": {
  "kernelspec": {
   "display_name": "Python 3 (ipykernel)",
   "language": "python",
   "name": "python3"
  },
  "language_info": {
   "codemirror_mode": {
    "name": "ipython",
    "version": 3
   },
   "file_extension": ".py",
   "mimetype": "text/x-python",
   "name": "python",
   "nbconvert_exporter": "python",
   "pygments_lexer": "ipython3",
   "version": "3.10.8"
  }
 },
 "nbformat": 4,
 "nbformat_minor": 5
}
